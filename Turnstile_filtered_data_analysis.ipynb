{
  "nbformat": 4,
  "nbformat_minor": 0,
  "metadata": {
    "colab": {
      "provenance": []
    },
    "kernelspec": {
      "name": "python3",
      "display_name": "Python 3"
    },
    "language_info": {
      "name": "python"
    }
  },
  "cells": [
    {
      "cell_type": "code",
      "source": [
        "#Author\n",
        "\n",
        "\"\"\"\n",
        "Avikal Sagar (as6804)\n",
        "\"\"\""
      ],
      "metadata": {
        "id": "_H3qKL8aM_o5"
      },
      "execution_count": null,
      "outputs": []
    },
    {
      "cell_type": "markdown",
      "source": [
        "## **AST route**"
      ],
      "metadata": {
        "id": "KyGViE_XoRjg"
      }
    },
    {
      "cell_type": "code",
      "execution_count": null,
      "metadata": {
        "id": "rp9jjuITsexF"
      },
      "outputs": [],
      "source": [
        "import numpy as np\n",
        "import pandas as pd\n",
        "import matplotlib.pyplot as plt\n",
        "import seaborn as sns\n",
        "import matplotlib.dates as mdates"
      ]
    },
    {
      "cell_type": "code",
      "source": [
        "AST_df = pd.read_csv(\"AST_subway_filtered_MONTHLY.csv\", index_col=[0])"
      ],
      "metadata": {
        "id": "s62VdPa6tEtU"
      },
      "execution_count": null,
      "outputs": []
    },
    {
      "cell_type": "code",
      "source": [
        "AST_df"
      ],
      "metadata": {
        "colab": {
          "base_uri": "https://localhost:8080/",
          "height": 424
        },
        "id": "a_QmzNKhtKY2",
        "outputId": "a279a3ee-2e8c-4024-f422-9e76a996aa89"
      },
      "execution_count": null,
      "outputs": [
        {
          "output_type": "execute_result",
          "data": {
            "text/plain": [
              "     STATION    datetime  MONTHLY BOARDINGS\n",
              "0      21 ST  2022-01-31       8.970105e+07\n",
              "1      21 ST  2022-02-28       8.340024e+08\n",
              "2      21 ST  2022-03-31       9.328262e+08\n",
              "3      21 ST  2022-04-30       9.066341e+08\n",
              "4      21 ST  2022-05-31       9.399163e+08\n",
              "..       ...         ...                ...\n",
              "164  YORK ST  2022-08-31       5.880460e+09\n",
              "165  YORK ST  2022-09-30       5.808101e+09\n",
              "166  YORK ST  2022-10-31       5.924825e+09\n",
              "167  YORK ST  2022-11-30       5.756340e+09\n",
              "168  YORK ST  2022-12-31       5.775976e+09\n",
              "\n",
              "[169 rows x 3 columns]"
            ],
            "text/html": [
              "\n",
              "  <div id=\"df-da0353c6-5340-4bb1-ab42-bb9c429324a8\">\n",
              "    <div class=\"colab-df-container\">\n",
              "      <div>\n",
              "<style scoped>\n",
              "    .dataframe tbody tr th:only-of-type {\n",
              "        vertical-align: middle;\n",
              "    }\n",
              "\n",
              "    .dataframe tbody tr th {\n",
              "        vertical-align: top;\n",
              "    }\n",
              "\n",
              "    .dataframe thead th {\n",
              "        text-align: right;\n",
              "    }\n",
              "</style>\n",
              "<table border=\"1\" class=\"dataframe\">\n",
              "  <thead>\n",
              "    <tr style=\"text-align: right;\">\n",
              "      <th></th>\n",
              "      <th>STATION</th>\n",
              "      <th>datetime</th>\n",
              "      <th>MONTHLY BOARDINGS</th>\n",
              "    </tr>\n",
              "  </thead>\n",
              "  <tbody>\n",
              "    <tr>\n",
              "      <th>0</th>\n",
              "      <td>21 ST</td>\n",
              "      <td>2022-01-31</td>\n",
              "      <td>8.970105e+07</td>\n",
              "    </tr>\n",
              "    <tr>\n",
              "      <th>1</th>\n",
              "      <td>21 ST</td>\n",
              "      <td>2022-02-28</td>\n",
              "      <td>8.340024e+08</td>\n",
              "    </tr>\n",
              "    <tr>\n",
              "      <th>2</th>\n",
              "      <td>21 ST</td>\n",
              "      <td>2022-03-31</td>\n",
              "      <td>9.328262e+08</td>\n",
              "    </tr>\n",
              "    <tr>\n",
              "      <th>3</th>\n",
              "      <td>21 ST</td>\n",
              "      <td>2022-04-30</td>\n",
              "      <td>9.066341e+08</td>\n",
              "    </tr>\n",
              "    <tr>\n",
              "      <th>4</th>\n",
              "      <td>21 ST</td>\n",
              "      <td>2022-05-31</td>\n",
              "      <td>9.399163e+08</td>\n",
              "    </tr>\n",
              "    <tr>\n",
              "      <th>...</th>\n",
              "      <td>...</td>\n",
              "      <td>...</td>\n",
              "      <td>...</td>\n",
              "    </tr>\n",
              "    <tr>\n",
              "      <th>164</th>\n",
              "      <td>YORK ST</td>\n",
              "      <td>2022-08-31</td>\n",
              "      <td>5.880460e+09</td>\n",
              "    </tr>\n",
              "    <tr>\n",
              "      <th>165</th>\n",
              "      <td>YORK ST</td>\n",
              "      <td>2022-09-30</td>\n",
              "      <td>5.808101e+09</td>\n",
              "    </tr>\n",
              "    <tr>\n",
              "      <th>166</th>\n",
              "      <td>YORK ST</td>\n",
              "      <td>2022-10-31</td>\n",
              "      <td>5.924825e+09</td>\n",
              "    </tr>\n",
              "    <tr>\n",
              "      <th>167</th>\n",
              "      <td>YORK ST</td>\n",
              "      <td>2022-11-30</td>\n",
              "      <td>5.756340e+09</td>\n",
              "    </tr>\n",
              "    <tr>\n",
              "      <th>168</th>\n",
              "      <td>YORK ST</td>\n",
              "      <td>2022-12-31</td>\n",
              "      <td>5.775976e+09</td>\n",
              "    </tr>\n",
              "  </tbody>\n",
              "</table>\n",
              "<p>169 rows × 3 columns</p>\n",
              "</div>\n",
              "      <button class=\"colab-df-convert\" onclick=\"convertToInteractive('df-da0353c6-5340-4bb1-ab42-bb9c429324a8')\"\n",
              "              title=\"Convert this dataframe to an interactive table.\"\n",
              "              style=\"display:none;\">\n",
              "        \n",
              "  <svg xmlns=\"http://www.w3.org/2000/svg\" height=\"24px\"viewBox=\"0 0 24 24\"\n",
              "       width=\"24px\">\n",
              "    <path d=\"M0 0h24v24H0V0z\" fill=\"none\"/>\n",
              "    <path d=\"M18.56 5.44l.94 2.06.94-2.06 2.06-.94-2.06-.94-.94-2.06-.94 2.06-2.06.94zm-11 1L8.5 8.5l.94-2.06 2.06-.94-2.06-.94L8.5 2.5l-.94 2.06-2.06.94zm10 10l.94 2.06.94-2.06 2.06-.94-2.06-.94-.94-2.06-.94 2.06-2.06.94z\"/><path d=\"M17.41 7.96l-1.37-1.37c-.4-.4-.92-.59-1.43-.59-.52 0-1.04.2-1.43.59L10.3 9.45l-7.72 7.72c-.78.78-.78 2.05 0 2.83L4 21.41c.39.39.9.59 1.41.59.51 0 1.02-.2 1.41-.59l7.78-7.78 2.81-2.81c.8-.78.8-2.07 0-2.86zM5.41 20L4 18.59l7.72-7.72 1.47 1.35L5.41 20z\"/>\n",
              "  </svg>\n",
              "      </button>\n",
              "      \n",
              "  <style>\n",
              "    .colab-df-container {\n",
              "      display:flex;\n",
              "      flex-wrap:wrap;\n",
              "      gap: 12px;\n",
              "    }\n",
              "\n",
              "    .colab-df-convert {\n",
              "      background-color: #E8F0FE;\n",
              "      border: none;\n",
              "      border-radius: 50%;\n",
              "      cursor: pointer;\n",
              "      display: none;\n",
              "      fill: #1967D2;\n",
              "      height: 32px;\n",
              "      padding: 0 0 0 0;\n",
              "      width: 32px;\n",
              "    }\n",
              "\n",
              "    .colab-df-convert:hover {\n",
              "      background-color: #E2EBFA;\n",
              "      box-shadow: 0px 1px 2px rgba(60, 64, 67, 0.3), 0px 1px 3px 1px rgba(60, 64, 67, 0.15);\n",
              "      fill: #174EA6;\n",
              "    }\n",
              "\n",
              "    [theme=dark] .colab-df-convert {\n",
              "      background-color: #3B4455;\n",
              "      fill: #D2E3FC;\n",
              "    }\n",
              "\n",
              "    [theme=dark] .colab-df-convert:hover {\n",
              "      background-color: #434B5C;\n",
              "      box-shadow: 0px 1px 3px 1px rgba(0, 0, 0, 0.15);\n",
              "      filter: drop-shadow(0px 1px 2px rgba(0, 0, 0, 0.3));\n",
              "      fill: #FFFFFF;\n",
              "    }\n",
              "  </style>\n",
              "\n",
              "      <script>\n",
              "        const buttonEl =\n",
              "          document.querySelector('#df-da0353c6-5340-4bb1-ab42-bb9c429324a8 button.colab-df-convert');\n",
              "        buttonEl.style.display =\n",
              "          google.colab.kernel.accessAllowed ? 'block' : 'none';\n",
              "\n",
              "        async function convertToInteractive(key) {\n",
              "          const element = document.querySelector('#df-da0353c6-5340-4bb1-ab42-bb9c429324a8');\n",
              "          const dataTable =\n",
              "            await google.colab.kernel.invokeFunction('convertToInteractive',\n",
              "                                                     [key], {});\n",
              "          if (!dataTable) return;\n",
              "\n",
              "          const docLinkHtml = 'Like what you see? Visit the ' +\n",
              "            '<a target=\"_blank\" href=https://colab.research.google.com/notebooks/data_table.ipynb>data table notebook</a>'\n",
              "            + ' to learn more about interactive tables.';\n",
              "          element.innerHTML = '';\n",
              "          dataTable['output_type'] = 'display_data';\n",
              "          await google.colab.output.renderOutput(dataTable, element);\n",
              "          const docLink = document.createElement('div');\n",
              "          docLink.innerHTML = docLinkHtml;\n",
              "          element.appendChild(docLink);\n",
              "        }\n",
              "      </script>\n",
              "    </div>\n",
              "  </div>\n",
              "  "
            ]
          },
          "metadata": {},
          "execution_count": 3
        }
      ]
    },
    {
      "cell_type": "code",
      "source": [
        "AST_df['STATION'].value_counts()"
      ],
      "metadata": {
        "colab": {
          "base_uri": "https://localhost:8080/"
        },
        "id": "sAumyGAPtLvA",
        "outputId": "fbfac0cf-6afa-4104-f987-a5f9ee86308e"
      },
      "execution_count": null,
      "outputs": [
        {
          "output_type": "execute_result",
          "data": {
            "text/plain": [
              "28 ST              13\n",
              "21 ST              12\n",
              "30 AV              12\n",
              "33 ST              12\n",
              "86 ST              12\n",
              "96 ST              12\n",
              "BROAD ST           12\n",
              "COURT SQ           12\n",
              "COURT SQ-23 ST     12\n",
              "FULTON ST          12\n",
              "GRD CNTRL-42 ST    12\n",
              "ROOSEVELT ISLND    12\n",
              "WALL ST            12\n",
              "YORK ST            12\n",
              "Name: STATION, dtype: int64"
            ]
          },
          "metadata": {},
          "execution_count": 4
        }
      ]
    },
    {
      "cell_type": "code",
      "source": [
        "AST_df['datetime'] = pd.to_datetime(AST_df['datetime'])"
      ],
      "metadata": {
        "id": "iQA1HXhD3HKp"
      },
      "execution_count": null,
      "outputs": []
    },
    {
      "cell_type": "code",
      "source": [
        "# group the data by month and sum the monthly boardings\n",
        "monthly_boardings = AST_df.groupby('datetime')['MONTHLY BOARDINGS'].sum()\n",
        "\n",
        "# create a bar chart of the monthly boardings\n",
        "plt.bar(monthly_boardings.index.strftime('%b'), monthly_boardings.values)\n",
        "\n",
        "# set the chart title and labels for x and y axes\n",
        "plt.title('Total Boardings by Month in 2022 for AS Route')\n",
        "plt.xlabel('Month')\n",
        "plt.ylabel('Total Boardings')\n",
        "\n",
        "# show the chart\n",
        "plt.show()"
      ],
      "metadata": {
        "colab": {
          "base_uri": "https://localhost:8080/",
          "height": 472
        },
        "id": "NZIOE98WtwU-",
        "outputId": "41f4eed5-f730-47b2-e836-322995dd41b5"
      },
      "execution_count": null,
      "outputs": [
        {
          "output_type": "display_data",
          "data": {
            "text/plain": [
              "<Figure size 640x480 with 1 Axes>"
            ],
            "image/png": "[encoded data removed]"
          },
          "metadata": {}
        }
      ]
    },
    {
      "cell_type": "markdown",
      "source": [
        "# **ER route**"
      ],
      "metadata": {
        "id": "CIkur1PDoVtQ"
      }
    },
    {
      "cell_type": "code",
      "source": [
        "ER_df = pd.read_csv(\"ER_subway_filtered_MONTHLY.csv\", index_col=[0])"
      ],
      "metadata": {
        "id": "E95YUQCuob_m"
      },
      "execution_count": null,
      "outputs": []
    },
    {
      "cell_type": "code",
      "source": [
        "ER_df"
      ],
      "metadata": {
        "colab": {
          "base_uri": "https://localhost:8080/",
          "height": 424
        },
        "id": "2UxtLjl2okjx",
        "outputId": "f58260e5-c70b-4c88-c66b-9ef2a5ad3f69"
      },
      "execution_count": null,
      "outputs": [
        {
          "output_type": "execute_result",
          "data": {
            "text/plain": [
              "     STATION    datetime  MONTHLY BOARDINGS\n",
              "0      21 ST  2022-01-31       8.970105e+07\n",
              "1      21 ST  2022-02-28       8.340024e+08\n",
              "2      21 ST  2022-03-31       9.328262e+08\n",
              "3      21 ST  2022-04-30       9.066341e+08\n",
              "4      21 ST  2022-05-31       9.399163e+08\n",
              "..       ...         ...                ...\n",
              "188  YORK ST  2022-08-31       5.880460e+09\n",
              "189  YORK ST  2022-09-30       5.808101e+09\n",
              "190  YORK ST  2022-10-31       5.924825e+09\n",
              "191  YORK ST  2022-11-30       5.756340e+09\n",
              "192  YORK ST  2022-12-31       5.775976e+09\n",
              "\n",
              "[193 rows x 3 columns]"
            ],
            "text/html": [
              "\n",
              "  <div id=\"df-b7cd919b-67a3-41ad-b77f-c00b77863ac3\">\n",
              "    <div class=\"colab-df-container\">\n",
              "      <div>\n",
              "<style scoped>\n",
              "    .dataframe tbody tr th:only-of-type {\n",
              "        vertical-align: middle;\n",
              "    }\n",
              "\n",
              "    .dataframe tbody tr th {\n",
              "        vertical-align: top;\n",
              "    }\n",
              "\n",
              "    .dataframe thead th {\n",
              "        text-align: right;\n",
              "    }\n",
              "</style>\n",
              "<table border=\"1\" class=\"dataframe\">\n",
              "  <thead>\n",
              "    <tr style=\"text-align: right;\">\n",
              "      <th></th>\n",
              "      <th>STATION</th>\n",
              "      <th>datetime</th>\n",
              "      <th>MONTHLY BOARDINGS</th>\n",
              "    </tr>\n",
              "  </thead>\n",
              "  <tbody>\n",
              "    <tr>\n",
              "      <th>0</th>\n",
              "      <td>21 ST</td>\n",
              "      <td>2022-01-31</td>\n",
              "      <td>8.970105e+07</td>\n",
              "    </tr>\n",
              "    <tr>\n",
              "      <th>1</th>\n",
              "      <td>21 ST</td>\n",
              "      <td>2022-02-28</td>\n",
              "      <td>8.340024e+08</td>\n",
              "    </tr>\n",
              "    <tr>\n",
              "      <th>2</th>\n",
              "      <td>21 ST</td>\n",
              "      <td>2022-03-31</td>\n",
              "      <td>9.328262e+08</td>\n",
              "    </tr>\n",
              "    <tr>\n",
              "      <th>3</th>\n",
              "      <td>21 ST</td>\n",
              "      <td>2022-04-30</td>\n",
              "      <td>9.066341e+08</td>\n",
              "    </tr>\n",
              "    <tr>\n",
              "      <th>4</th>\n",
              "      <td>21 ST</td>\n",
              "      <td>2022-05-31</td>\n",
              "      <td>9.399163e+08</td>\n",
              "    </tr>\n",
              "    <tr>\n",
              "      <th>...</th>\n",
              "      <td>...</td>\n",
              "      <td>...</td>\n",
              "      <td>...</td>\n",
              "    </tr>\n",
              "    <tr>\n",
              "      <th>188</th>\n",
              "      <td>YORK ST</td>\n",
              "      <td>2022-08-31</td>\n",
              "      <td>5.880460e+09</td>\n",
              "    </tr>\n",
              "    <tr>\n",
              "      <th>189</th>\n",
              "      <td>YORK ST</td>\n",
              "      <td>2022-09-30</td>\n",
              "      <td>5.808101e+09</td>\n",
              "    </tr>\n",
              "    <tr>\n",
              "      <th>190</th>\n",
              "      <td>YORK ST</td>\n",
              "      <td>2022-10-31</td>\n",
              "      <td>5.924825e+09</td>\n",
              "    </tr>\n",
              "    <tr>\n",
              "      <th>191</th>\n",
              "      <td>YORK ST</td>\n",
              "      <td>2022-11-30</td>\n",
              "      <td>5.756340e+09</td>\n",
              "    </tr>\n",
              "    <tr>\n",
              "      <th>192</th>\n",
              "      <td>YORK ST</td>\n",
              "      <td>2022-12-31</td>\n",
              "      <td>5.775976e+09</td>\n",
              "    </tr>\n",
              "  </tbody>\n",
              "</table>\n",
              "<p>193 rows × 3 columns</p>\n",
              "</div>\n",
              "      <button class=\"colab-df-convert\" onclick=\"convertToInteractive('df-b7cd919b-67a3-41ad-b77f-c00b77863ac3')\"\n",
              "              title=\"Convert this dataframe to an interactive table.\"\n",
              "              style=\"display:none;\">\n",
              "        \n",
              "  <svg xmlns=\"http://www.w3.org/2000/svg\" height=\"24px\"viewBox=\"0 0 24 24\"\n",
              "       width=\"24px\">\n",
              "    <path d=\"M0 0h24v24H0V0z\" fill=\"none\"/>\n",
              "    <path d=\"M18.56 5.44l.94 2.06.94-2.06 2.06-.94-2.06-.94-.94-2.06-.94 2.06-2.06.94zm-11 1L8.5 8.5l.94-2.06 2.06-.94-2.06-.94L8.5 2.5l-.94 2.06-2.06.94zm10 10l.94 2.06.94-2.06 2.06-.94-2.06-.94-.94-2.06-.94 2.06-2.06.94z\"/><path d=\"M17.41 7.96l-1.37-1.37c-.4-.4-.92-.59-1.43-.59-.52 0-1.04.2-1.43.59L10.3 9.45l-7.72 7.72c-.78.78-.78 2.05 0 2.83L4 21.41c.39.39.9.59 1.41.59.51 0 1.02-.2 1.41-.59l7.78-7.78 2.81-2.81c.8-.78.8-2.07 0-2.86zM5.41 20L4 18.59l7.72-7.72 1.47 1.35L5.41 20z\"/>\n",
              "  </svg>\n",
              "      </button>\n",
              "      \n",
              "  <style>\n",
              "    .colab-df-container {\n",
              "      display:flex;\n",
              "      flex-wrap:wrap;\n",
              "      gap: 12px;\n",
              "    }\n",
              "\n",
              "    .colab-df-convert {\n",
              "      background-color: #E8F0FE;\n",
              "      border: none;\n",
              "      border-radius: 50%;\n",
              "      cursor: pointer;\n",
              "      display: none;\n",
              "      fill: #1967D2;\n",
              "      height: 32px;\n",
              "      padding: 0 0 0 0;\n",
              "      width: 32px;\n",
              "    }\n",
              "\n",
              "    .colab-df-convert:hover {\n",
              "      background-color: #E2EBFA;\n",
              "      box-shadow: 0px 1px 2px rgba(60, 64, 67, 0.3), 0px 1px 3px 1px rgba(60, 64, 67, 0.15);\n",
              "      fill: #174EA6;\n",
              "    }\n",
              "\n",
              "    [theme=dark] .colab-df-convert {\n",
              "      background-color: #3B4455;\n",
              "      fill: #D2E3FC;\n",
              "    }\n",
              "\n",
              "    [theme=dark] .colab-df-convert:hover {\n",
              "      background-color: #434B5C;\n",
              "      box-shadow: 0px 1px 3px 1px rgba(0, 0, 0, 0.15);\n",
              "      filter: drop-shadow(0px 1px 2px rgba(0, 0, 0, 0.3));\n",
              "      fill: #FFFFFF;\n",
              "    }\n",
              "  </style>\n",
              "\n",
              "      <script>\n",
              "        const buttonEl =\n",
              "          document.querySelector('#df-b7cd919b-67a3-41ad-b77f-c00b77863ac3 button.colab-df-convert');\n",
              "        buttonEl.style.display =\n",
              "          google.colab.kernel.accessAllowed ? 'block' : 'none';\n",
              "\n",
              "        async function convertToInteractive(key) {\n",
              "          const element = document.querySelector('#df-b7cd919b-67a3-41ad-b77f-c00b77863ac3');\n",
              "          const dataTable =\n",
              "            await google.colab.kernel.invokeFunction('convertToInteractive',\n",
              "                                                     [key], {});\n",
              "          if (!dataTable) return;\n",
              "\n",
              "          const docLinkHtml = 'Like what you see? Visit the ' +\n",
              "            '<a target=\"_blank\" href=https://colab.research.google.com/notebooks/data_table.ipynb>data table notebook</a>'\n",
              "            + ' to learn more about interactive tables.';\n",
              "          element.innerHTML = '';\n",
              "          dataTable['output_type'] = 'display_data';\n",
              "          await google.colab.output.renderOutput(dataTable, element);\n",
              "          const docLink = document.createElement('div');\n",
              "          docLink.innerHTML = docLinkHtml;\n",
              "          element.appendChild(docLink);\n",
              "        }\n",
              "      </script>\n",
              "    </div>\n",
              "  </div>\n",
              "  "
            ]
          },
          "metadata": {},
          "execution_count": 8
        }
      ]
    },
    {
      "cell_type": "code",
      "source": [
        "ER_df['STATION'].value_counts()"
      ],
      "metadata": {
        "colab": {
          "base_uri": "https://localhost:8080/"
        },
        "id": "e5-gJ1XIom7s",
        "outputId": "2e4f4f8d-9ad7-4f70-a96b-f275c685349b"
      },
      "execution_count": null,
      "outputs": [
        {
          "output_type": "execute_result",
          "data": {
            "text/plain": [
              "28 ST              13\n",
              "21 ST              12\n",
              "33 ST              12\n",
              "BEDFORD AV         12\n",
              "BROAD ST           12\n",
              "CLARK ST           12\n",
              "FULTON ST          12\n",
              "GRD CNTRL-42 ST    12\n",
              "GREENPOINT AV      12\n",
              "HIGH ST            12\n",
              "HUNTERS PT AV      12\n",
              "MARCY AV           12\n",
              "NASSAU AV          12\n",
              "VERNON-JACKSON     12\n",
              "WALL ST            12\n",
              "YORK ST            12\n",
              "Name: STATION, dtype: int64"
            ]
          },
          "metadata": {},
          "execution_count": 9
        }
      ]
    },
    {
      "cell_type": "code",
      "source": [
        "ER_df['datetime'] = pd.to_datetime(ER_df['datetime'])"
      ],
      "metadata": {
        "id": "H7M8WZ97osx6"
      },
      "execution_count": null,
      "outputs": []
    },
    {
      "cell_type": "code",
      "source": [
        "# group the data by month and sum the monthly boardings\n",
        "monthly_boardings_ER = ER_df.groupby('datetime')['MONTHLY BOARDINGS'].sum()\n",
        "\n",
        "# create a bar chart of the monthly boardings\n",
        "plt.bar(monthly_boardings_ER.index.strftime('%b'), monthly_boardings_ER.values, color = 'red')\n",
        "\n",
        "# set the chart title and labels for x and y axes\n",
        "plt.title('Total Boardings by Month in 2022 for ER route')\n",
        "plt.xlabel('Month')\n",
        "plt.ylabel('Total Boardings')\n",
        "\n",
        "# show the chart\n",
        "plt.show()"
      ],
      "metadata": {
        "colab": {
          "base_uri": "https://localhost:8080/",
          "height": 472
        },
        "id": "fy1cYT4NpGoV",
        "outputId": "778c9ec8-a602-4e44-8c8d-a8ca4661f1c8"
      },
      "execution_count": null,
      "outputs": [
        {
          "output_type": "display_data",
          "data": {
            "text/plain": [
              "<Figure size 640x480 with 1 Axes>"
            ],
            "image/png": "[encoded data removed]"
          },
          "metadata": {}
        }
      ]
    },
    {
      "cell_type": "markdown",
      "source": [
        "# **RW route**"
      ],
      "metadata": {
        "id": "sWY648cq6j4H"
      }
    },
    {
      "cell_type": "code",
      "source": [
        "RW_df = pd.read_csv(\"RW_subway_filtered_MONTHLY.csv\", index_col=[0])"
      ],
      "metadata": {
        "id": "UOJPZdtA7wSA"
      },
      "execution_count": null,
      "outputs": []
    },
    {
      "cell_type": "code",
      "source": [
        "RW_df"
      ],
      "metadata": {
        "colab": {
          "base_uri": "https://localhost:8080/",
          "height": 424
        },
        "id": "VD60PIMa7--u",
        "outputId": "e3c09afb-40c1-45fa-d353-fc27f95d6397"
      },
      "execution_count": null,
      "outputs": [
        {
          "output_type": "execute_result",
          "data": {
            "text/plain": [
              "     STATION    datetime  MONTHLY BOARDINGS\n",
              "0      45 ST  2022-01-31       2.815906e+08\n",
              "1      45 ST  2022-02-28       2.637376e+09\n",
              "2      45 ST  2022-03-31       2.919665e+09\n",
              "3      45 ST  2022-04-30       2.856109e+09\n",
              "4      45 ST  2022-05-31       2.968409e+09\n",
              "..       ...         ...                ...\n",
              "128  WALL ST  2022-08-31       7.756713e+10\n",
              "129  WALL ST  2022-09-30       7.466695e+10\n",
              "130  WALL ST  2022-10-31       7.599517e+10\n",
              "131  WALL ST  2022-11-30       6.929997e+10\n",
              "132  WALL ST  2022-12-31       7.396958e+10\n",
              "\n",
              "[133 rows x 3 columns]"
            ],
            "text/html": [
              "\n",
              "  <div id=\"df-1a2d0cf3-9d84-4d29-bb5c-bb691b2a4382\">\n",
              "    <div class=\"colab-df-container\">\n",
              "      <div>\n",
              "<style scoped>\n",
              "    .dataframe tbody tr th:only-of-type {\n",
              "        vertical-align: middle;\n",
              "    }\n",
              "\n",
              "    .dataframe tbody tr th {\n",
              "        vertical-align: top;\n",
              "    }\n",
              "\n",
              "    .dataframe thead th {\n",
              "        text-align: right;\n",
              "    }\n",
              "</style>\n",
              "<table border=\"1\" class=\"dataframe\">\n",
              "  <thead>\n",
              "    <tr style=\"text-align: right;\">\n",
              "      <th></th>\n",
              "      <th>STATION</th>\n",
              "      <th>datetime</th>\n",
              "      <th>MONTHLY BOARDINGS</th>\n",
              "    </tr>\n",
              "  </thead>\n",
              "  <tbody>\n",
              "    <tr>\n",
              "      <th>0</th>\n",
              "      <td>45 ST</td>\n",
              "      <td>2022-01-31</td>\n",
              "      <td>2.815906e+08</td>\n",
              "    </tr>\n",
              "    <tr>\n",
              "      <th>1</th>\n",
              "      <td>45 ST</td>\n",
              "      <td>2022-02-28</td>\n",
              "      <td>2.637376e+09</td>\n",
              "    </tr>\n",
              "    <tr>\n",
              "      <th>2</th>\n",
              "      <td>45 ST</td>\n",
              "      <td>2022-03-31</td>\n",
              "      <td>2.919665e+09</td>\n",
              "    </tr>\n",
              "    <tr>\n",
              "      <th>3</th>\n",
              "      <td>45 ST</td>\n",
              "      <td>2022-04-30</td>\n",
              "      <td>2.856109e+09</td>\n",
              "    </tr>\n",
              "    <tr>\n",
              "      <th>4</th>\n",
              "      <td>45 ST</td>\n",
              "      <td>2022-05-31</td>\n",
              "      <td>2.968409e+09</td>\n",
              "    </tr>\n",
              "    <tr>\n",
              "      <th>...</th>\n",
              "      <td>...</td>\n",
              "      <td>...</td>\n",
              "      <td>...</td>\n",
              "    </tr>\n",
              "    <tr>\n",
              "      <th>128</th>\n",
              "      <td>WALL ST</td>\n",
              "      <td>2022-08-31</td>\n",
              "      <td>7.756713e+10</td>\n",
              "    </tr>\n",
              "    <tr>\n",
              "      <th>129</th>\n",
              "      <td>WALL ST</td>\n",
              "      <td>2022-09-30</td>\n",
              "      <td>7.466695e+10</td>\n",
              "    </tr>\n",
              "    <tr>\n",
              "      <th>130</th>\n",
              "      <td>WALL ST</td>\n",
              "      <td>2022-10-31</td>\n",
              "      <td>7.599517e+10</td>\n",
              "    </tr>\n",
              "    <tr>\n",
              "      <th>131</th>\n",
              "      <td>WALL ST</td>\n",
              "      <td>2022-11-30</td>\n",
              "      <td>6.929997e+10</td>\n",
              "    </tr>\n",
              "    <tr>\n",
              "      <th>132</th>\n",
              "      <td>WALL ST</td>\n",
              "      <td>2022-12-31</td>\n",
              "      <td>7.396958e+10</td>\n",
              "    </tr>\n",
              "  </tbody>\n",
              "</table>\n",
              "<p>133 rows × 3 columns</p>\n",
              "</div>\n",
              "      <button class=\"colab-df-convert\" onclick=\"convertToInteractive('df-1a2d0cf3-9d84-4d29-bb5c-bb691b2a4382')\"\n",
              "              title=\"Convert this dataframe to an interactive table.\"\n",
              "              style=\"display:none;\">\n",
              "        \n",
              "  <svg xmlns=\"http://www.w3.org/2000/svg\" height=\"24px\"viewBox=\"0 0 24 24\"\n",
              "       width=\"24px\">\n",
              "    <path d=\"M0 0h24v24H0V0z\" fill=\"none\"/>\n",
              "    <path d=\"M18.56 5.44l.94 2.06.94-2.06 2.06-.94-2.06-.94-.94-2.06-.94 2.06-2.06.94zm-11 1L8.5 8.5l.94-2.06 2.06-.94-2.06-.94L8.5 2.5l-.94 2.06-2.06.94zm10 10l.94 2.06.94-2.06 2.06-.94-2.06-.94-.94-2.06-.94 2.06-2.06.94z\"/><path d=\"M17.41 7.96l-1.37-1.37c-.4-.4-.92-.59-1.43-.59-.52 0-1.04.2-1.43.59L10.3 9.45l-7.72 7.72c-.78.78-.78 2.05 0 2.83L4 21.41c.39.39.9.59 1.41.59.51 0 1.02-.2 1.41-.59l7.78-7.78 2.81-2.81c.8-.78.8-2.07 0-2.86zM5.41 20L4 18.59l7.72-7.72 1.47 1.35L5.41 20z\"/>\n",
              "  </svg>\n",
              "      </button>\n",
              "      \n",
              "  <style>\n",
              "    .colab-df-container {\n",
              "      display:flex;\n",
              "      flex-wrap:wrap;\n",
              "      gap: 12px;\n",
              "    }\n",
              "\n",
              "    .colab-df-convert {\n",
              "      background-color: #E8F0FE;\n",
              "      border: none;\n",
              "      border-radius: 50%;\n",
              "      cursor: pointer;\n",
              "      display: none;\n",
              "      fill: #1967D2;\n",
              "      height: 32px;\n",
              "      padding: 0 0 0 0;\n",
              "      width: 32px;\n",
              "    }\n",
              "\n",
              "    .colab-df-convert:hover {\n",
              "      background-color: #E2EBFA;\n",
              "      box-shadow: 0px 1px 2px rgba(60, 64, 67, 0.3), 0px 1px 3px 1px rgba(60, 64, 67, 0.15);\n",
              "      fill: #174EA6;\n",
              "    }\n",
              "\n",
              "    [theme=dark] .colab-df-convert {\n",
              "      background-color: #3B4455;\n",
              "      fill: #D2E3FC;\n",
              "    }\n",
              "\n",
              "    [theme=dark] .colab-df-convert:hover {\n",
              "      background-color: #434B5C;\n",
              "      box-shadow: 0px 1px 3px 1px rgba(0, 0, 0, 0.15);\n",
              "      filter: drop-shadow(0px 1px 2px rgba(0, 0, 0, 0.3));\n",
              "      fill: #FFFFFF;\n",
              "    }\n",
              "  </style>\n",
              "\n",
              "      <script>\n",
              "        const buttonEl =\n",
              "          document.querySelector('#df-1a2d0cf3-9d84-4d29-bb5c-bb691b2a4382 button.colab-df-convert');\n",
              "        buttonEl.style.display =\n",
              "          google.colab.kernel.accessAllowed ? 'block' : 'none';\n",
              "\n",
              "        async function convertToInteractive(key) {\n",
              "          const element = document.querySelector('#df-1a2d0cf3-9d84-4d29-bb5c-bb691b2a4382');\n",
              "          const dataTable =\n",
              "            await google.colab.kernel.invokeFunction('convertToInteractive',\n",
              "                                                     [key], {});\n",
              "          if (!dataTable) return;\n",
              "\n",
              "          const docLinkHtml = 'Like what you see? Visit the ' +\n",
              "            '<a target=\"_blank\" href=https://colab.research.google.com/notebooks/data_table.ipynb>data table notebook</a>'\n",
              "            + ' to learn more about interactive tables.';\n",
              "          element.innerHTML = '';\n",
              "          dataTable['output_type'] = 'display_data';\n",
              "          await google.colab.output.renderOutput(dataTable, element);\n",
              "          const docLink = document.createElement('div');\n",
              "          docLink.innerHTML = docLinkHtml;\n",
              "          element.appendChild(docLink);\n",
              "        }\n",
              "      </script>\n",
              "    </div>\n",
              "  </div>\n",
              "  "
            ]
          },
          "metadata": {},
          "execution_count": 13
        }
      ]
    },
    {
      "cell_type": "code",
      "source": [
        "RW_df['STATION'].value_counts()"
      ],
      "metadata": {
        "colab": {
          "base_uri": "https://localhost:8080/"
        },
        "id": "in7jAekF8Azo",
        "outputId": "179989cb-e642-4685-a72f-5e63d614f038"
      },
      "execution_count": null,
      "outputs": [
        {
          "output_type": "execute_result",
          "data": {
            "text/plain": [
              "59 ST              13\n",
              "45 ST              12\n",
              "53 ST              12\n",
              "77 ST              12\n",
              "BAY RIDGE AV       12\n",
              "BEACH 105 ST       12\n",
              "BEACH 90 ST        12\n",
              "BEACH 98 ST        12\n",
              "BROAD ST           12\n",
              "ROCKAWAY PARK B    12\n",
              "WALL ST            12\n",
              "Name: STATION, dtype: int64"
            ]
          },
          "metadata": {},
          "execution_count": 14
        }
      ]
    },
    {
      "cell_type": "code",
      "source": [
        "RW_df['datetime'] = pd.to_datetime(RW_df['datetime'])"
      ],
      "metadata": {
        "id": "tKQrk1en8Eje"
      },
      "execution_count": null,
      "outputs": []
    },
    {
      "cell_type": "code",
      "source": [
        "# group the data by month and sum the monthly boardings\n",
        "monthly_boardings_RW = RW_df.groupby('datetime')['MONTHLY BOARDINGS'].sum()\n",
        "\n",
        "# create a bar chart of the monthly boardings\n",
        "plt.bar(monthly_boardings_RW.index.strftime('%b'), monthly_boardings_RW.values, color = 'purple')\n",
        "\n",
        "# set the chart title and labels for x and y axes\n",
        "plt.title('Total Boardings by Month in 2022 for RW route')\n",
        "plt.xlabel('Month')\n",
        "plt.ylabel('Total Boardings')\n",
        "\n",
        "# show the chart\n",
        "plt.show()"
      ],
      "metadata": {
        "colab": {
          "base_uri": "https://localhost:8080/",
          "height": 472
        },
        "id": "VJIQkj-Q8aHc",
        "outputId": "1fbf9b45-40fb-428c-9a34-41c1c95d249a"
      },
      "execution_count": null,
      "outputs": [
        {
          "output_type": "display_data",
          "data": {
            "text/plain": [
              "<Figure size 640x480 with 1 Axes>"
            ],
            "image/png": "[encoded data removed]"
          },
          "metadata": {}
        }
      ]
    },
    {
      "cell_type": "markdown",
      "source": [
        "# **SB route**"
      ],
      "metadata": {
        "id": "qHhAqsn49gCe"
      }
    },
    {
      "cell_type": "code",
      "source": [
        "SB_df = pd.read_csv(\"SB_subway_filtered_MONTHLY.csv\", index_col=[0])"
      ],
      "metadata": {
        "id": "4zDPMpQ79jRu"
      },
      "execution_count": null,
      "outputs": []
    },
    {
      "cell_type": "code",
      "source": [
        "SB_df"
      ],
      "metadata": {
        "colab": {
          "base_uri": "https://localhost:8080/",
          "height": 424
        },
        "id": "ix-o9iHr_og0",
        "outputId": "e157f1d9-dc25-4426-c838-ead3be24fe86"
      },
      "execution_count": null,
      "outputs": [
        {
          "output_type": "execute_result",
          "data": {
            "text/plain": [
              "     STATION    datetime  MONTHLY BOARDINGS\n",
              "0      59 ST  2022-01-31       6.329236e+09\n",
              "1      59 ST  2022-02-28       5.969942e+10\n",
              "2      59 ST  2022-03-31       6.572840e+10\n",
              "3      59 ST  2022-04-30       6.363026e+10\n",
              "4      59 ST  2022-05-31       6.585296e+10\n",
              "..       ...         ...                ...\n",
              "152  YORK ST  2022-08-31       5.880460e+09\n",
              "153  YORK ST  2022-09-30       5.808101e+09\n",
              "154  YORK ST  2022-10-31       5.924825e+09\n",
              "155  YORK ST  2022-11-30       5.756340e+09\n",
              "156  YORK ST  2022-12-31       5.775976e+09\n",
              "\n",
              "[157 rows x 3 columns]"
            ],
            "text/html": [
              "\n",
              "  <div id=\"df-953a6bd5-e235-47ef-91b0-9d038d2b9ea7\">\n",
              "    <div class=\"colab-df-container\">\n",
              "      <div>\n",
              "<style scoped>\n",
              "    .dataframe tbody tr th:only-of-type {\n",
              "        vertical-align: middle;\n",
              "    }\n",
              "\n",
              "    .dataframe tbody tr th {\n",
              "        vertical-align: top;\n",
              "    }\n",
              "\n",
              "    .dataframe thead th {\n",
              "        text-align: right;\n",
              "    }\n",
              "</style>\n",
              "<table border=\"1\" class=\"dataframe\">\n",
              "  <thead>\n",
              "    <tr style=\"text-align: right;\">\n",
              "      <th></th>\n",
              "      <th>STATION</th>\n",
              "      <th>datetime</th>\n",
              "      <th>MONTHLY BOARDINGS</th>\n",
              "    </tr>\n",
              "  </thead>\n",
              "  <tbody>\n",
              "    <tr>\n",
              "      <th>0</th>\n",
              "      <td>59 ST</td>\n",
              "      <td>2022-01-31</td>\n",
              "      <td>6.329236e+09</td>\n",
              "    </tr>\n",
              "    <tr>\n",
              "      <th>1</th>\n",
              "      <td>59 ST</td>\n",
              "      <td>2022-02-28</td>\n",
              "      <td>5.969942e+10</td>\n",
              "    </tr>\n",
              "    <tr>\n",
              "      <th>2</th>\n",
              "      <td>59 ST</td>\n",
              "      <td>2022-03-31</td>\n",
              "      <td>6.572840e+10</td>\n",
              "    </tr>\n",
              "    <tr>\n",
              "      <th>3</th>\n",
              "      <td>59 ST</td>\n",
              "      <td>2022-04-30</td>\n",
              "      <td>6.363026e+10</td>\n",
              "    </tr>\n",
              "    <tr>\n",
              "      <th>4</th>\n",
              "      <td>59 ST</td>\n",
              "      <td>2022-05-31</td>\n",
              "      <td>6.585296e+10</td>\n",
              "    </tr>\n",
              "    <tr>\n",
              "      <th>...</th>\n",
              "      <td>...</td>\n",
              "      <td>...</td>\n",
              "      <td>...</td>\n",
              "    </tr>\n",
              "    <tr>\n",
              "      <th>152</th>\n",
              "      <td>YORK ST</td>\n",
              "      <td>2022-08-31</td>\n",
              "      <td>5.880460e+09</td>\n",
              "    </tr>\n",
              "    <tr>\n",
              "      <th>153</th>\n",
              "      <td>YORK ST</td>\n",
              "      <td>2022-09-30</td>\n",
              "      <td>5.808101e+09</td>\n",
              "    </tr>\n",
              "    <tr>\n",
              "      <th>154</th>\n",
              "      <td>YORK ST</td>\n",
              "      <td>2022-10-31</td>\n",
              "      <td>5.924825e+09</td>\n",
              "    </tr>\n",
              "    <tr>\n",
              "      <th>155</th>\n",
              "      <td>YORK ST</td>\n",
              "      <td>2022-11-30</td>\n",
              "      <td>5.756340e+09</td>\n",
              "    </tr>\n",
              "    <tr>\n",
              "      <th>156</th>\n",
              "      <td>YORK ST</td>\n",
              "      <td>2022-12-31</td>\n",
              "      <td>5.775976e+09</td>\n",
              "    </tr>\n",
              "  </tbody>\n",
              "</table>\n",
              "<p>157 rows × 3 columns</p>\n",
              "</div>\n",
              "      <button class=\"colab-df-convert\" onclick=\"convertToInteractive('df-953a6bd5-e235-47ef-91b0-9d038d2b9ea7')\"\n",
              "              title=\"Convert this dataframe to an interactive table.\"\n",
              "              style=\"display:none;\">\n",
              "        \n",
              "  <svg xmlns=\"http://www.w3.org/2000/svg\" height=\"24px\"viewBox=\"0 0 24 24\"\n",
              "       width=\"24px\">\n",
              "    <path d=\"M0 0h24v24H0V0z\" fill=\"none\"/>\n",
              "    <path d=\"M18.56 5.44l.94 2.06.94-2.06 2.06-.94-2.06-.94-.94-2.06-.94 2.06-2.06.94zm-11 1L8.5 8.5l.94-2.06 2.06-.94-2.06-.94L8.5 2.5l-.94 2.06-2.06.94zm10 10l.94 2.06.94-2.06 2.06-.94-2.06-.94-.94-2.06-.94 2.06-2.06.94z\"/><path d=\"M17.41 7.96l-1.37-1.37c-.4-.4-.92-.59-1.43-.59-.52 0-1.04.2-1.43.59L10.3 9.45l-7.72 7.72c-.78.78-.78 2.05 0 2.83L4 21.41c.39.39.9.59 1.41.59.51 0 1.02-.2 1.41-.59l7.78-7.78 2.81-2.81c.8-.78.8-2.07 0-2.86zM5.41 20L4 18.59l7.72-7.72 1.47 1.35L5.41 20z\"/>\n",
              "  </svg>\n",
              "      </button>\n",
              "      \n",
              "  <style>\n",
              "    .colab-df-container {\n",
              "      display:flex;\n",
              "      flex-wrap:wrap;\n",
              "      gap: 12px;\n",
              "    }\n",
              "\n",
              "    .colab-df-convert {\n",
              "      background-color: #E8F0FE;\n",
              "      border: none;\n",
              "      border-radius: 50%;\n",
              "      cursor: pointer;\n",
              "      display: none;\n",
              "      fill: #1967D2;\n",
              "      height: 32px;\n",
              "      padding: 0 0 0 0;\n",
              "      width: 32px;\n",
              "    }\n",
              "\n",
              "    .colab-df-convert:hover {\n",
              "      background-color: #E2EBFA;\n",
              "      box-shadow: 0px 1px 2px rgba(60, 64, 67, 0.3), 0px 1px 3px 1px rgba(60, 64, 67, 0.15);\n",
              "      fill: #174EA6;\n",
              "    }\n",
              "\n",
              "    [theme=dark] .colab-df-convert {\n",
              "      background-color: #3B4455;\n",
              "      fill: #D2E3FC;\n",
              "    }\n",
              "\n",
              "    [theme=dark] .colab-df-convert:hover {\n",
              "      background-color: #434B5C;\n",
              "      box-shadow: 0px 1px 3px 1px rgba(0, 0, 0, 0.15);\n",
              "      filter: drop-shadow(0px 1px 2px rgba(0, 0, 0, 0.3));\n",
              "      fill: #FFFFFF;\n",
              "    }\n",
              "  </style>\n",
              "\n",
              "      <script>\n",
              "        const buttonEl =\n",
              "          document.querySelector('#df-953a6bd5-e235-47ef-91b0-9d038d2b9ea7 button.colab-df-convert');\n",
              "        buttonEl.style.display =\n",
              "          google.colab.kernel.accessAllowed ? 'block' : 'none';\n",
              "\n",
              "        async function convertToInteractive(key) {\n",
              "          const element = document.querySelector('#df-953a6bd5-e235-47ef-91b0-9d038d2b9ea7');\n",
              "          const dataTable =\n",
              "            await google.colab.kernel.invokeFunction('convertToInteractive',\n",
              "                                                     [key], {});\n",
              "          if (!dataTable) return;\n",
              "\n",
              "          const docLinkHtml = 'Like what you see? Visit the ' +\n",
              "            '<a target=\"_blank\" href=https://colab.research.google.com/notebooks/data_table.ipynb>data table notebook</a>'\n",
              "            + ' to learn more about interactive tables.';\n",
              "          element.innerHTML = '';\n",
              "          dataTable['output_type'] = 'display_data';\n",
              "          await google.colab.output.renderOutput(dataTable, element);\n",
              "          const docLink = document.createElement('div');\n",
              "          docLink.innerHTML = docLinkHtml;\n",
              "          element.appendChild(docLink);\n",
              "        }\n",
              "      </script>\n",
              "    </div>\n",
              "  </div>\n",
              "  "
            ]
          },
          "metadata": {},
          "execution_count": 18
        }
      ]
    },
    {
      "cell_type": "code",
      "source": [
        "SB_df['STATION'].value_counts()"
      ],
      "metadata": {
        "colab": {
          "base_uri": "https://localhost:8080/"
        },
        "id": "JlDlRVBR_ruK",
        "outputId": "eddd3fce-9b46-4f50-e465-0f784ab5f777"
      },
      "execution_count": null,
      "outputs": [
        {
          "output_type": "execute_result",
          "data": {
            "text/plain": [
              "59 ST              13\n",
              "BAY RIDGE AV       12\n",
              "BERGEN ST          12\n",
              "BOROUGH HALL       12\n",
              "BOWERY             12\n",
              "BROAD ST           12\n",
              "CLARK ST           12\n",
              "DELANCEY/ESSEX     12\n",
              "HIGH ST            12\n",
              "SMITH-9 ST         12\n",
              "WALL ST            12\n",
              "WHITEHALL S-FRY    12\n",
              "YORK ST            12\n",
              "Name: STATION, dtype: int64"
            ]
          },
          "metadata": {},
          "execution_count": 19
        }
      ]
    },
    {
      "cell_type": "code",
      "source": [
        "SB_df['datetime'] = pd.to_datetime(SB_df['datetime'])"
      ],
      "metadata": {
        "id": "rUrreDPb_wSq"
      },
      "execution_count": null,
      "outputs": []
    },
    {
      "cell_type": "code",
      "source": [
        "# group the data by month and sum the monthly boardings\n",
        "monthly_boardings_SB = SB_df.groupby('datetime')['MONTHLY BOARDINGS'].sum()\n",
        "\n",
        "# create a bar chart of the monthly boardings\n",
        "plt.bar(monthly_boardings_SB.index.strftime('%b'), monthly_boardings_SB.values, color = 'blue')\n",
        "\n",
        "# set the chart title and labels for x and y axes\n",
        "plt.title('Total Boardings by Month in 2022 for SB route')\n",
        "plt.xlabel('Month')\n",
        "plt.ylabel('Total Boardings')\n",
        "\n",
        "# show the chart\n",
        "plt.show()"
      ],
      "metadata": {
        "colab": {
          "base_uri": "https://localhost:8080/",
          "height": 472
        },
        "id": "D_N4YMEP_1hC",
        "outputId": "63088f58-9358-41f3-95af-21f83cb7c92e"
      },
      "execution_count": null,
      "outputs": [
        {
          "output_type": "display_data",
          "data": {
            "text/plain": [
              "<Figure size 640x480 with 1 Axes>"
            ],
            "image/png": "[encoded data removed]"
          },
          "metadata": {}
        }
      ]
    },
    {
      "cell_type": "markdown",
      "source": [
        "# **SV route**"
      ],
      "metadata": {
        "id": "ShjRL7QRAIeT"
      }
    },
    {
      "cell_type": "code",
      "source": [
        "SV_df = pd.read_csv(\"SV_subway_filtered_MONTHLY.csv\", index_col=[0])"
      ],
      "metadata": {
        "id": "M31u7ClnAyRc"
      },
      "execution_count": null,
      "outputs": []
    },
    {
      "cell_type": "code",
      "source": [
        "SV_df"
      ],
      "metadata": {
        "colab": {
          "base_uri": "https://localhost:8080/",
          "height": 424
        },
        "id": "aFhDC1gFBGrj",
        "outputId": "9b80312b-d6c8-4d51-b9df-cf3adee29582"
      },
      "execution_count": null,
      "outputs": [
        {
          "output_type": "execute_result",
          "data": {
            "text/plain": [
              "       STATION    datetime  MONTHLY BOARDINGS\n",
              "0         1 AV  2022-01-31       3.650046e+10\n",
              "1         1 AV  2022-02-28       2.811444e+11\n",
              "2         1 AV  2022-03-31       8.526154e+10\n",
              "3         1 AV  2022-04-30       8.383568e+10\n",
              "4         1 AV  2022-05-31       8.614372e+10\n",
              "..         ...         ...                ...\n",
              "116  ZEREGA AV  2022-08-31       6.103224e+08\n",
              "117  ZEREGA AV  2022-09-30       5.956709e+08\n",
              "118  ZEREGA AV  2022-10-31       6.215633e+08\n",
              "119  ZEREGA AV  2022-11-30       5.907926e+08\n",
              "120  ZEREGA AV  2022-12-31       5.647389e+08\n",
              "\n",
              "[121 rows x 3 columns]"
            ],
            "text/html": [
              "\n",
              "  <div id=\"df-69681ad6-5380-4bd6-a3c9-6d2516e5db54\">\n",
              "    <div class=\"colab-df-container\">\n",
              "      <div>\n",
              "<style scoped>\n",
              "    .dataframe tbody tr th:only-of-type {\n",
              "        vertical-align: middle;\n",
              "    }\n",
              "\n",
              "    .dataframe tbody tr th {\n",
              "        vertical-align: top;\n",
              "    }\n",
              "\n",
              "    .dataframe thead th {\n",
              "        text-align: right;\n",
              "    }\n",
              "</style>\n",
              "<table border=\"1\" class=\"dataframe\">\n",
              "  <thead>\n",
              "    <tr style=\"text-align: right;\">\n",
              "      <th></th>\n",
              "      <th>STATION</th>\n",
              "      <th>datetime</th>\n",
              "      <th>MONTHLY BOARDINGS</th>\n",
              "    </tr>\n",
              "  </thead>\n",
              "  <tbody>\n",
              "    <tr>\n",
              "      <th>0</th>\n",
              "      <td>1 AV</td>\n",
              "      <td>2022-01-31</td>\n",
              "      <td>3.650046e+10</td>\n",
              "    </tr>\n",
              "    <tr>\n",
              "      <th>1</th>\n",
              "      <td>1 AV</td>\n",
              "      <td>2022-02-28</td>\n",
              "      <td>2.811444e+11</td>\n",
              "    </tr>\n",
              "    <tr>\n",
              "      <th>2</th>\n",
              "      <td>1 AV</td>\n",
              "      <td>2022-03-31</td>\n",
              "      <td>8.526154e+10</td>\n",
              "    </tr>\n",
              "    <tr>\n",
              "      <th>3</th>\n",
              "      <td>1 AV</td>\n",
              "      <td>2022-04-30</td>\n",
              "      <td>8.383568e+10</td>\n",
              "    </tr>\n",
              "    <tr>\n",
              "      <th>4</th>\n",
              "      <td>1 AV</td>\n",
              "      <td>2022-05-31</td>\n",
              "      <td>8.614372e+10</td>\n",
              "    </tr>\n",
              "    <tr>\n",
              "      <th>...</th>\n",
              "      <td>...</td>\n",
              "      <td>...</td>\n",
              "      <td>...</td>\n",
              "    </tr>\n",
              "    <tr>\n",
              "      <th>116</th>\n",
              "      <td>ZEREGA AV</td>\n",
              "      <td>2022-08-31</td>\n",
              "      <td>6.103224e+08</td>\n",
              "    </tr>\n",
              "    <tr>\n",
              "      <th>117</th>\n",
              "      <td>ZEREGA AV</td>\n",
              "      <td>2022-09-30</td>\n",
              "      <td>5.956709e+08</td>\n",
              "    </tr>\n",
              "    <tr>\n",
              "      <th>118</th>\n",
              "      <td>ZEREGA AV</td>\n",
              "      <td>2022-10-31</td>\n",
              "      <td>6.215633e+08</td>\n",
              "    </tr>\n",
              "    <tr>\n",
              "      <th>119</th>\n",
              "      <td>ZEREGA AV</td>\n",
              "      <td>2022-11-30</td>\n",
              "      <td>5.907926e+08</td>\n",
              "    </tr>\n",
              "    <tr>\n",
              "      <th>120</th>\n",
              "      <td>ZEREGA AV</td>\n",
              "      <td>2022-12-31</td>\n",
              "      <td>5.647389e+08</td>\n",
              "    </tr>\n",
              "  </tbody>\n",
              "</table>\n",
              "<p>121 rows × 3 columns</p>\n",
              "</div>\n",
              "      <button class=\"colab-df-convert\" onclick=\"convertToInteractive('df-69681ad6-5380-4bd6-a3c9-6d2516e5db54')\"\n",
              "              title=\"Convert this dataframe to an interactive table.\"\n",
              "              style=\"display:none;\">\n",
              "        \n",
              "  <svg xmlns=\"http://www.w3.org/2000/svg\" height=\"24px\"viewBox=\"0 0 24 24\"\n",
              "       width=\"24px\">\n",
              "    <path d=\"M0 0h24v24H0V0z\" fill=\"none\"/>\n",
              "    <path d=\"M18.56 5.44l.94 2.06.94-2.06 2.06-.94-2.06-.94-.94-2.06-.94 2.06-2.06.94zm-11 1L8.5 8.5l.94-2.06 2.06-.94-2.06-.94L8.5 2.5l-.94 2.06-2.06.94zm10 10l.94 2.06.94-2.06 2.06-.94-2.06-.94-.94-2.06-.94 2.06-2.06.94z\"/><path d=\"M17.41 7.96l-1.37-1.37c-.4-.4-.92-.59-1.43-.59-.52 0-1.04.2-1.43.59L10.3 9.45l-7.72 7.72c-.78.78-.78 2.05 0 2.83L4 21.41c.39.39.9.59 1.41.59.51 0 1.02-.2 1.41-.59l7.78-7.78 2.81-2.81c.8-.78.8-2.07 0-2.86zM5.41 20L4 18.59l7.72-7.72 1.47 1.35L5.41 20z\"/>\n",
              "  </svg>\n",
              "      </button>\n",
              "      \n",
              "  <style>\n",
              "    .colab-df-container {\n",
              "      display:flex;\n",
              "      flex-wrap:wrap;\n",
              "      gap: 12px;\n",
              "    }\n",
              "\n",
              "    .colab-df-convert {\n",
              "      background-color: #E8F0FE;\n",
              "      border: none;\n",
              "      border-radius: 50%;\n",
              "      cursor: pointer;\n",
              "      display: none;\n",
              "      fill: #1967D2;\n",
              "      height: 32px;\n",
              "      padding: 0 0 0 0;\n",
              "      width: 32px;\n",
              "    }\n",
              "\n",
              "    .colab-df-convert:hover {\n",
              "      background-color: #E2EBFA;\n",
              "      box-shadow: 0px 1px 2px rgba(60, 64, 67, 0.3), 0px 1px 3px 1px rgba(60, 64, 67, 0.15);\n",
              "      fill: #174EA6;\n",
              "    }\n",
              "\n",
              "    [theme=dark] .colab-df-convert {\n",
              "      background-color: #3B4455;\n",
              "      fill: #D2E3FC;\n",
              "    }\n",
              "\n",
              "    [theme=dark] .colab-df-convert:hover {\n",
              "      background-color: #434B5C;\n",
              "      box-shadow: 0px 1px 3px 1px rgba(0, 0, 0, 0.15);\n",
              "      filter: drop-shadow(0px 1px 2px rgba(0, 0, 0, 0.3));\n",
              "      fill: #FFFFFF;\n",
              "    }\n",
              "  </style>\n",
              "\n",
              "      <script>\n",
              "        const buttonEl =\n",
              "          document.querySelector('#df-69681ad6-5380-4bd6-a3c9-6d2516e5db54 button.colab-df-convert');\n",
              "        buttonEl.style.display =\n",
              "          google.colab.kernel.accessAllowed ? 'block' : 'none';\n",
              "\n",
              "        async function convertToInteractive(key) {\n",
              "          const element = document.querySelector('#df-69681ad6-5380-4bd6-a3c9-6d2516e5db54');\n",
              "          const dataTable =\n",
              "            await google.colab.kernel.invokeFunction('convertToInteractive',\n",
              "                                                     [key], {});\n",
              "          if (!dataTable) return;\n",
              "\n",
              "          const docLinkHtml = 'Like what you see? Visit the ' +\n",
              "            '<a target=\"_blank\" href=https://colab.research.google.com/notebooks/data_table.ipynb>data table notebook</a>'\n",
              "            + ' to learn more about interactive tables.';\n",
              "          element.innerHTML = '';\n",
              "          dataTable['output_type'] = 'display_data';\n",
              "          await google.colab.output.renderOutput(dataTable, element);\n",
              "          const docLink = document.createElement('div');\n",
              "          docLink.innerHTML = docLinkHtml;\n",
              "          element.appendChild(docLink);\n",
              "        }\n",
              "      </script>\n",
              "    </div>\n",
              "  </div>\n",
              "  "
            ]
          },
          "metadata": {},
          "execution_count": 23
        }
      ]
    },
    {
      "cell_type": "code",
      "source": [
        "SV_df['STATION'].value_counts()"
      ],
      "metadata": {
        "colab": {
          "base_uri": "https://localhost:8080/"
        },
        "id": "zJpU64nlBKac",
        "outputId": "9afb5c9d-3c0f-46cb-c345-2865f79c2923"
      },
      "execution_count": null,
      "outputs": [
        {
          "output_type": "execute_result",
          "data": {
            "text/plain": [
              "28 ST              13\n",
              "1 AV               12\n",
              "33 ST              12\n",
              "86 ST              12\n",
              "BROAD ST           12\n",
              "FULTON ST          12\n",
              "GRD CNTRL-42 ST    12\n",
              "MORISN AV/SNDVW    12\n",
              "WALL ST            12\n",
              "ZEREGA AV          12\n",
              "Name: STATION, dtype: int64"
            ]
          },
          "metadata": {},
          "execution_count": 24
        }
      ]
    },
    {
      "cell_type": "code",
      "source": [
        "SV_df['datetime'] = pd.to_datetime(SV_df['datetime'])"
      ],
      "metadata": {
        "id": "gNZ1AcNhNRnZ"
      },
      "execution_count": null,
      "outputs": []
    },
    {
      "cell_type": "code",
      "source": [
        "# group the data by month and sum the monthly boardings\n",
        "monthly_boardings_SV = SV_df.groupby('datetime')['MONTHLY BOARDINGS'].sum()\n",
        "\n",
        "# create a bar chart of the monthly boardings\n",
        "plt.bar(monthly_boardings_SV.index.strftime('%b'), monthly_boardings_SV.values, color = 'orange')\n",
        "\n",
        "# set the chart title and labels for x and y axes\n",
        "plt.title('Total Boardings by Month in 2022 for SV route')\n",
        "plt.xlabel('Month')\n",
        "plt.ylabel('Total Boardings')\n",
        "\n",
        "# show the chart\n",
        "plt.show()"
      ],
      "metadata": {
        "colab": {
          "base_uri": "https://localhost:8080/",
          "height": 472
        },
        "id": "ObpYQej8NVdT",
        "outputId": "19122783-c5f6-45f9-ffba-e44498ec212d"
      },
      "execution_count": null,
      "outputs": [
        {
          "output_type": "display_data",
          "data": {
            "text/plain": [
              "<Figure size 640x480 with 1 Axes>"
            ],
            "image/png": "[encoded data removed]"
          },
          "metadata": {}
        }
      ]
    }
  ]
}